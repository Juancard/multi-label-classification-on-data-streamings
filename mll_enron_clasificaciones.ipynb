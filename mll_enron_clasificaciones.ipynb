{
  "nbformat": 4,
  "nbformat_minor": 0,
  "metadata": {
    "colab": {
      "name": "mll_enron_clasificaciones.ipynb",
      "provenance": [],
      "collapsed_sections": [
        "ns5pJ3XPo9sS",
        "lOWRHr2OpgCk"
      ],
      "authorship_tag": "ABX9TyNgAbmc6ahNK8Crb46esyqj",
      "include_colab_link": true
    },
    "kernelspec": {
      "name": "python3",
      "display_name": "Python 3"
    }
  },
  "cells": [
    {
      "cell_type": "markdown",
      "metadata": {
        "id": "view-in-github",
        "colab_type": "text"
      },
      "source": [
        "<a href=\"https://colab.research.google.com/github/Juancard/multi-label-classification-on-data-streamings/blob/master/mll_enron_clasificaciones.ipynb\" target=\"_parent\"><img src=\"https://colab.research.google.com/assets/colab-badge.svg\" alt=\"Open In Colab\"/></a>"
      ]
    },
    {
      "cell_type": "code",
      "metadata": {
        "id": "E8HxHWQ9lXAQ",
        "colab_type": "code",
        "colab": {
          "base_uri": "https://localhost:8080/",
          "height": 72
        },
        "outputId": "0669dca9-c073-4b9f-d00a-8bce67f0144c"
      },
      "source": [
        "!pip install scikit-multilearn\n",
        "!pip install liac-arff"
      ],
      "execution_count": null,
      "outputs": [
        {
          "output_type": "stream",
          "text": [
            "Requirement already satisfied: scikit-multilearn in /usr/local/lib/python3.6/dist-packages (0.2.0)\n",
            "Requirement already satisfied: arff in /usr/local/lib/python3.6/dist-packages (0.9)\n"
          ],
          "name": "stdout"
        }
      ]
    },
    {
      "cell_type": "code",
      "metadata": {
        "id": "z_oG0UAhlCkh",
        "colab_type": "code",
        "colab": {}
      },
      "source": [
        "%matplotlib inline\n",
        "from skmultilearn.dataset import load_dataset\n",
        "import numpy as np\n",
        "import pandas as pd"
      ],
      "execution_count": null,
      "outputs": []
    },
    {
      "cell_type": "markdown",
      "metadata": {
        "id": "4oZ0hS2H-eBt",
        "colab_type": "text"
      },
      "source": [
        "# Multi-label - Batch"
      ]
    },
    {
      "cell_type": "markdown",
      "metadata": {
        "id": "txCT4xl4-U2G",
        "colab_type": "text"
      },
      "source": [
        "## EDA"
      ]
    },
    {
      "cell_type": "code",
      "metadata": {
        "id": "I9nAsDf6lSjB",
        "colab_type": "code",
        "colab": {
          "base_uri": "https://localhost:8080/",
          "height": 34
        },
        "outputId": "6ac94862-1d8c-4cce-8f0b-6b9e785ee1dc"
      },
      "source": [
        "_, _, feature_names, label_names = load_dataset('enron', 'undivided')"
      ],
      "execution_count": null,
      "outputs": [
        {
          "output_type": "stream",
          "text": [
            "enron:undivided - exists, not redownloading\n"
          ],
          "name": "stdout"
        }
      ]
    },
    {
      "cell_type": "code",
      "metadata": {
        "id": "1IKcMB4xnAk9",
        "colab_type": "code",
        "colab": {
          "base_uri": "https://localhost:8080/",
          "height": 382
        },
        "outputId": "dfb841c6-64be-4095-b07d-0c029d2dfdf2"
      },
      "source": [
        "label_names[:10], \"---\", feature_names[-10:]"
      ],
      "execution_count": null,
      "outputs": [
        {
          "output_type": "execute_result",
          "data": {
            "text/plain": [
              "([('A.A8', ['0', '1']),\n",
              "  ('C.C9', ['0', '1']),\n",
              "  ('B.B12', ['0', '1']),\n",
              "  ('C.C11', ['0', '1']),\n",
              "  ('C.C5', ['0', '1']),\n",
              "  ('C.C7', ['0', '1']),\n",
              "  ('B.B2', ['0', '1']),\n",
              "  ('B.B3', ['0', '1']),\n",
              "  ('D.D16', ['0', '1']),\n",
              "  ('A.A7', ['0', '1'])],\n",
              " '---',\n",
              " [('workers', ['0', '1']),\n",
              "  ('working', ['0', '1']),\n",
              "  ('world', ['0', '1']),\n",
              "  ('writer', ['0', '1']),\n",
              "  ('writers', ['0', '1']),\n",
              "  ('www', ['0', '1']),\n",
              "  ('year', ['0', '1']),\n",
              "  ('years', ['0', '1']),\n",
              "  ('yesterday', ['0', '1']),\n",
              "  ('york', ['0', '1'])])"
            ]
          },
          "metadata": {
            "tags": []
          },
          "execution_count": 26
        }
      ]
    },
    {
      "cell_type": "markdown",
      "metadata": {
        "id": "ns5pJ3XPo9sS",
        "colab_type": "text"
      },
      "source": [
        "## Problem Transformation - Binary Relevance\n"
      ]
    },
    {
      "cell_type": "code",
      "metadata": {
        "id": "Ce6cKB2vnhkJ",
        "colab_type": "code",
        "colab": {}
      },
      "source": [
        "from skmultilearn.problem_transform import BinaryRelevance\n",
        "from sklearn.ensemble import RandomForestClassifier\n",
        "import time"
      ],
      "execution_count": null,
      "outputs": []
    },
    {
      "cell_type": "code",
      "metadata": {
        "id": "odP4bYDhpBmj",
        "colab_type": "code",
        "colab": {
          "base_uri": "https://localhost:8080/",
          "height": 52
        },
        "outputId": "20adbae4-a00a-4024-db23-316634105d81"
      },
      "source": [
        "x_train, y_train, _, _ = load_dataset('enron', 'train')\n",
        "x_test, y_test, _, _ = load_dataset('enron', 'test')\n"
      ],
      "execution_count": null,
      "outputs": [
        {
          "output_type": "stream",
          "text": [
            "enron:train - exists, not redownloading\n",
            "enron:test - exists, not redownloading\n"
          ],
          "name": "stdout"
        }
      ]
    },
    {
      "cell_type": "code",
      "metadata": {
        "id": "E7bISNZQpDJU",
        "colab_type": "code",
        "colab": {
          "base_uri": "https://localhost:8080/",
          "height": 34
        },
        "outputId": "54354220-3926-4a78-9e6a-7418976ef8b2"
      },
      "source": [
        "start=time.time()\n",
        "classifier = BinaryRelevance(\n",
        "    classifier = RandomForestClassifier(),\n",
        "    require_dense = [False, True]\n",
        ")\n",
        "\n",
        "classifier.fit(x_train, y_train)\n",
        "\n",
        "print('training time taken: ',round(time.time()-start,0),'seconds')"
      ],
      "execution_count": null,
      "outputs": [
        {
          "output_type": "stream",
          "text": [
            "training time taken:  21.0 seconds\n"
          ],
          "name": "stdout"
        }
      ]
    },
    {
      "cell_type": "code",
      "metadata": {
        "id": "KjGYR-JMpFtU",
        "colab_type": "code",
        "colab": {
          "base_uri": "https://localhost:8080/",
          "height": 34
        },
        "outputId": "7b04057a-7d54-44ae-cd40-392d50a587f1"
      },
      "source": [
        "start=time.time()\n",
        "y_hat=classifier.predict(x_test)\n",
        "print('prediction time taken: ',round(time.time()-start,0),'seconds')"
      ],
      "execution_count": null,
      "outputs": [
        {
          "output_type": "stream",
          "text": [
            "prediction time taken:  2.0 seconds\n"
          ],
          "name": "stdout"
        }
      ]
    },
    {
      "cell_type": "code",
      "metadata": {
        "id": "PGa9KcFXpHsx",
        "colab_type": "code",
        "colab": {
          "base_uri": "https://localhost:8080/",
          "height": 106
        },
        "outputId": "c4bd2591-698a-4b3d-bc30-64354dbf1203"
      },
      "source": [
        "import sklearn.metrics as metrics\n",
        "def ml_accuracy(y_test, y_hat):\n",
        "  def accuracy(x): \n",
        "    return 1 - np.mean(y_test.T[x] != y_hat.T[x])  \n",
        "  return [accuracy(i) for i in range(y_test.shape[1])]\n",
        "\n",
        "br_acc=ml_accuracy(y_test, y_hat)\n",
        "br_f1=metrics.f1_score(y_test, y_hat, average='micro')\n",
        "br_hamm=metrics.hamming_loss(y_test,y_hat)\n",
        "print('Binary Relevance Accuracy (all):',br_acc)\n",
        "print('Binary Relevance Accuracy (mean):',round(np.mean(br_acc),3))\n",
        "print('Binary Relevance F1-score:',round(br_f1,3))\n",
        "print('Binary Relevance Hamming Loss:',round(br_hamm,3))"
      ],
      "execution_count": null,
      "outputs": [
        {
          "output_type": "stream",
          "text": [
            "Binary Relevance Accuracy (all): [0.9844559585492227, 0.9620034542314335, 0.9965457685664939, 0.9775474956822107, 0.9378238341968912, 0.9585492227979274, 0.8048359240069087, 0.9758203799654577, 0.9948186528497409, 0.9810017271157168, 0.9965457685664939, 0.8048359240069087, 0.917098445595855, 0.9032815198618308, 0.7426597582037999, 0.9740932642487047, 0.9948186528497409, 0.9827288428324698, 0.9723661485319517, 0.9879101899827288, 0.9291882556131261, 0.8946459412780657, 0.9810017271157168, 0.9585492227979274, 0.9550949913644214, 0.7651122625215893, 0.9913644214162349, 0.9930915371329879, 0.9861830742659758, 0.9827288428324698, 0.998272884283247, 0.9568221070811744, 0.9948186528497409, 0.9844559585492227, 0.9844559585492227, 0.9930915371329879, 0.9948186528497409, 0.9723661485319517, 0.9896373056994818, 0.8877374784110537, 0.9930915371329879, 0.9810017271157168, 0.9775474956822107, 0.9585492227979274, 0.913644214162349, 0.998272884283247, 0.8290155440414511, 0.998272884283247, 0.9896373056994818, 0.8894645941278067, 0.9879101899827288, 0.9948186528497409, 0.9965457685664939]\n",
            "Binary Relevance Accuracy (mean): 0.954\n",
            "Binary Relevance F1-score: 0.568\n",
            "Binary Relevance Hamming Loss: 0.046\n"
          ],
          "name": "stdout"
        }
      ]
    },
    {
      "cell_type": "markdown",
      "metadata": {
        "id": "lOWRHr2OpgCk",
        "colab_type": "text"
      },
      "source": [
        "## Problem Transformation - Classifier Chains"
      ]
    },
    {
      "cell_type": "code",
      "metadata": {
        "id": "JswcwY_bpJlG",
        "colab_type": "code",
        "colab": {}
      },
      "source": [
        "from skmultilearn.problem_transform import ClassifierChain"
      ],
      "execution_count": null,
      "outputs": []
    },
    {
      "cell_type": "code",
      "metadata": {
        "id": "RBE3UxwApjUS",
        "colab_type": "code",
        "colab": {
          "base_uri": "https://localhost:8080/",
          "height": 34
        },
        "outputId": "a47150b8-e7bc-4bec-abe5-9ce8ff959ce7"
      },
      "source": [
        "classifier = ClassifierChain(\n",
        "    classifier = RandomForestClassifier(),\n",
        "    require_dense = [False, True],\n",
        "    order=[i for i in range(len(label_names))]\n",
        ")\n",
        "start=time.time()\n",
        "classifier.fit(x_train,y_train)\n",
        "\n",
        "print('training time taken: ',round(time.time()-start,0),'seconds')"
      ],
      "execution_count": null,
      "outputs": [
        {
          "output_type": "stream",
          "text": [
            "training time taken:  19.0 seconds\n"
          ],
          "name": "stdout"
        }
      ]
    },
    {
      "cell_type": "code",
      "metadata": {
        "id": "Zp7ZG2ezplEY",
        "colab_type": "code",
        "colab": {
          "base_uri": "https://localhost:8080/",
          "height": 34
        },
        "outputId": "ce9ea71b-e0ab-43bd-fb28-c543d1d05e8e"
      },
      "source": [
        "start=time.time()\n",
        "y_hat=classifier.predict(x_test)\n",
        "print('prediction time taken: ',round(time.time()-start,0),'seconds')"
      ],
      "execution_count": null,
      "outputs": [
        {
          "output_type": "stream",
          "text": [
            "prediction time taken:  1.0 seconds\n"
          ],
          "name": "stdout"
        }
      ]
    },
    {
      "cell_type": "code",
      "metadata": {
        "id": "jL0gaelTp0pl",
        "colab_type": "code",
        "colab": {
          "base_uri": "https://localhost:8080/",
          "height": 106
        },
        "outputId": "960d6f6a-6a98-4dfb-a288-6027bd9d5125"
      },
      "source": [
        "br_acc=ml_accuracy(y_test, y_hat)\n",
        "cc_f1=metrics.f1_score(y_test, y_hat, average='micro')\n",
        "cc_hamm=metrics.hamming_loss(y_test,y_hat)\n",
        "print('Binary Relevance Accuracy (all):',br_acc)\n",
        "print('Binary Relevance Accuracy (mean):',round(np.mean(br_acc),3))\n",
        "print('Classifier Chain F1-score:',round(cc_f1,3))\n",
        "print('Classifier Chain Hamming Loss:',round(cc_hamm,3))"
      ],
      "execution_count": null,
      "outputs": [
        {
          "output_type": "stream",
          "text": [
            "Binary Relevance Accuracy (all): [0.9844559585492227, 0.9620034542314335, 0.9965457685664939, 0.9775474956822107, 0.9378238341968912, 0.9585492227979274, 0.8048359240069087, 0.9758203799654577, 0.9948186528497409, 0.9810017271157168, 0.9965457685664939, 0.8048359240069087, 0.917098445595855, 0.9032815198618308, 0.7426597582037999, 0.9740932642487047, 0.9948186528497409, 0.9827288428324698, 0.9723661485319517, 0.9879101899827288, 0.9291882556131261, 0.8946459412780657, 0.9810017271157168, 0.9585492227979274, 0.9550949913644214, 0.7651122625215893, 0.9913644214162349, 0.9930915371329879, 0.9861830742659758, 0.9827288428324698, 0.998272884283247, 0.9568221070811744, 0.9948186528497409, 0.9844559585492227, 0.9844559585492227, 0.9930915371329879, 0.9948186528497409, 0.9723661485319517, 0.9896373056994818, 0.8877374784110537, 0.9930915371329879, 0.9810017271157168, 0.9775474956822107, 0.9585492227979274, 0.913644214162349, 0.998272884283247, 0.8290155440414511, 0.998272884283247, 0.9896373056994818, 0.8894645941278067, 0.9879101899827288, 0.9948186528497409, 0.9965457685664939]\n",
            "Binary Relevance Accuracy (mean): 0.954\n",
            "Classifier Chain F1-score: 0.568\n",
            "Classifier Chain Hamming Loss: 0.046\n"
          ],
          "name": "stdout"
        }
      ]
    },
    {
      "cell_type": "markdown",
      "metadata": {
        "id": "tUTLdhguqe0t",
        "colab_type": "text"
      },
      "source": [
        "# Multi-label - Streaming"
      ]
    },
    {
      "cell_type": "code",
      "metadata": {
        "id": "wt5YAqJEqiqz",
        "colab_type": "code",
        "colab": {
          "base_uri": "https://localhost:8080/",
          "height": 454
        },
        "outputId": "5ec49869-5442-4bc5-b5ec-28d70eeb9f86"
      },
      "source": [
        "!pip install scikit-multiflow scikit-multilearn liac-arff"
      ],
      "execution_count": 7,
      "outputs": [
        {
          "output_type": "stream",
          "text": [
            "Requirement already satisfied: scikit-multiflow in /usr/local/lib/python3.6/dist-packages (0.5.3)\n",
            "Requirement already satisfied: scikit-multilearn in /usr/local/lib/python3.6/dist-packages (0.2.0)\n",
            "Collecting liac-arff\n",
            "  Downloading https://files.pythonhosted.org/packages/e9/35/fbc9217cfa91d98888b43e1a19c03a50d716108c58494c558c65e308f372/liac-arff-2.4.0.tar.gz\n",
            "Requirement already satisfied: scikit-learn>=0.20 in /usr/local/lib/python3.6/dist-packages (from scikit-multiflow) (0.22.2.post1)\n",
            "Requirement already satisfied: pandas>=0.25.3 in /usr/local/lib/python3.6/dist-packages (from scikit-multiflow) (1.0.4)\n",
            "Requirement already satisfied: scipy>=1.0.0 in /usr/local/lib/python3.6/dist-packages (from scikit-multiflow) (1.4.1)\n",
            "Requirement already satisfied: sortedcontainers>=1.5.7 in /usr/local/lib/python3.6/dist-packages (from scikit-multiflow) (2.1.0)\n",
            "Requirement already satisfied: numpy>=1.14.0 in /usr/local/lib/python3.6/dist-packages (from scikit-multiflow) (1.18.5)\n",
            "Requirement already satisfied: matplotlib>=2.0.0 in /usr/local/lib/python3.6/dist-packages (from scikit-multiflow) (3.2.1)\n",
            "Requirement already satisfied: joblib>=0.11 in /usr/local/lib/python3.6/dist-packages (from scikit-learn>=0.20->scikit-multiflow) (0.15.1)\n",
            "Requirement already satisfied: python-dateutil>=2.6.1 in /usr/local/lib/python3.6/dist-packages (from pandas>=0.25.3->scikit-multiflow) (2.8.1)\n",
            "Requirement already satisfied: pytz>=2017.2 in /usr/local/lib/python3.6/dist-packages (from pandas>=0.25.3->scikit-multiflow) (2018.9)\n",
            "Requirement already satisfied: kiwisolver>=1.0.1 in /usr/local/lib/python3.6/dist-packages (from matplotlib>=2.0.0->scikit-multiflow) (1.2.0)\n",
            "Requirement already satisfied: cycler>=0.10 in /usr/local/lib/python3.6/dist-packages (from matplotlib>=2.0.0->scikit-multiflow) (0.10.0)\n",
            "Requirement already satisfied: pyparsing!=2.0.4,!=2.1.2,!=2.1.6,>=2.0.1 in /usr/local/lib/python3.6/dist-packages (from matplotlib>=2.0.0->scikit-multiflow) (2.4.7)\n",
            "Requirement already satisfied: six>=1.5 in /usr/local/lib/python3.6/dist-packages (from python-dateutil>=2.6.1->pandas>=0.25.3->scikit-multiflow) (1.12.0)\n",
            "Building wheels for collected packages: liac-arff\n",
            "  Building wheel for liac-arff (setup.py) ... \u001b[?25l\u001b[?25hdone\n",
            "  Created wheel for liac-arff: filename=liac_arff-2.4.0-cp36-none-any.whl size=13335 sha256=e8456375d523a0b16f6aea5cbf2ad938d21d75f5516e9a64df78828bc7e9eaae\n",
            "  Stored in directory: /root/.cache/pip/wheels/d1/6a/e7/529dc54d76ecede4346164a09ae3168df358945612710f5203\n",
            "Successfully built liac-arff\n",
            "Installing collected packages: liac-arff\n",
            "Successfully installed liac-arff-2.4.0\n"
          ],
          "name": "stdout"
        }
      ]
    },
    {
      "cell_type": "code",
      "metadata": {
        "id": "00Giox5Dp2wP",
        "colab_type": "code",
        "colab": {}
      },
      "source": [
        "from skmultiflow.meta.multi_output_learner import MultiOutputLearner\n",
        "from skmultiflow.core.pipeline import Pipeline\n",
        "from skmultiflow.data.data_stream import DataStream\n",
        "from sklearn.linear_model import SGDClassifier\n",
        "from sklearn.linear_model.perceptron import Perceptron\n",
        "from skmultilearn.dataset import load_dataset\n",
        "from skmultiflow.evaluation.evaluate_prequential import EvaluatePrequential\n",
        "import numpy as np"
      ],
      "execution_count": 8,
      "outputs": []
    },
    {
      "cell_type": "code",
      "metadata": {
        "id": "uMFpgK0Tqbs2",
        "colab_type": "code",
        "colab": {
          "base_uri": "https://localhost:8080/",
          "height": 124
        },
        "outputId": "6cdd2dab-85f5-4069-e799-506056858465"
      },
      "source": [
        "X_stream, y_stream, feature_names, label_names = load_dataset('enron', 'undivided')\n",
        "enron_stream = DataStream(data=X_stream.todense(), y=y_stream.todense())\n",
        "enron_stream.prepare_for_use()"
      ],
      "execution_count": 9,
      "outputs": [
        {
          "output_type": "stream",
          "text": [
            "enron:undivided - does not exists downloading\n",
            "Downloaded enron-undivided\n"
          ],
          "name": "stdout"
        },
        {
          "output_type": "stream",
          "text": [
            "/usr/local/lib/python3.6/dist-packages/skmultiflow/data/base_stream.py:194: FutureWarning: 'prepare_for_use' has been deprecated in v0.5.0 and will be removed in v0.7.0.\n",
            "New instances of the Stream class are now ready to use after instantiation.\n",
            "  category=FutureWarning)\n"
          ],
          "name": "stderr"
        }
      ]
    },
    {
      "cell_type": "code",
      "metadata": {
        "id": "QB2vV2_u5iQ6",
        "colab_type": "code",
        "colab": {
          "base_uri": "https://localhost:8080/",
          "height": 86
        },
        "outputId": "5b4b7b51-432c-42c8-a662-fb31bc0f234d"
      },
      "source": [
        "X_stream, y_stream"
      ],
      "execution_count": 10,
      "outputs": [
        {
          "output_type": "execute_result",
          "data": {
            "text/plain": [
              "(<1702x1001 sparse matrix of type '<class 'numpy.float64'>'\n",
              " \twith 143090 stored elements in List of Lists format>,\n",
              " <1702x53 sparse matrix of type '<class 'numpy.int64'>'\n",
              " \twith 5750 stored elements in List of Lists format>)"
            ]
          },
          "metadata": {
            "tags": []
          },
          "execution_count": 10
        }
      ]
    },
    {
      "cell_type": "code",
      "metadata": {
        "id": "QIzFK4LS5pvn",
        "colab_type": "code",
        "colab": {}
      },
      "source": [
        "classifier = MultiOutputLearner(\n",
        "    Perceptron()\n",
        ")\n",
        "enron_pipe = Pipeline([('classifier', classifier)])"
      ],
      "execution_count": 11,
      "outputs": []
    },
    {
      "cell_type": "markdown",
      "metadata": {
        "id": "s1iWN61kM55K",
        "colab_type": "text"
      },
      "source": [
        "### Sin modificar el dataset lanza error"
      ]
    },
    {
      "cell_type": "code",
      "metadata": {
        "id": "g1e0jmJ95r5T",
        "colab_type": "code",
        "colab": {
          "base_uri": "https://localhost:8080/",
          "height": 419
        },
        "outputId": "c4631527-bef8-4662-be15-6efdd773c34d"
      },
      "source": [
        "%matplotlib inline\n",
        "\n",
        "# Plotting\n",
        "import matplotlib.pyplot as plt\n",
        "\n",
        "evaluator = EvaluatePrequential(\n",
        "    show_plot=True, \n",
        "    pretrain_size=100, \n",
        "    max_samples=500000,\n",
        "    metrics=[\"hamming_score\", \"hamming_loss\"]\n",
        ")\n",
        "evaluator.evaluate(stream=enron_stream, model=enron_pipe)"
      ],
      "execution_count": 12,
      "outputs": [
        {
          "output_type": "stream",
          "text": [
            "Prequential Evaluation\n",
            "Evaluating 53 target(s).\n",
            "Pre-training on 100 sample(s).\n"
          ],
          "name": "stdout"
        },
        {
          "output_type": "error",
          "ename": "ValueError",
          "evalue": "ignored",
          "traceback": [
            "\u001b[0;31m---------------------------------------------------------------------------\u001b[0m",
            "\u001b[0;31mValueError\u001b[0m                                Traceback (most recent call last)",
            "\u001b[0;32m<ipython-input-12-ce28a70dee84>\u001b[0m in \u001b[0;36m<module>\u001b[0;34m()\u001b[0m\n\u001b[1;32m     10\u001b[0m     \u001b[0mmetrics\u001b[0m\u001b[0;34m=\u001b[0m\u001b[0;34m[\u001b[0m\u001b[0;34m\"hamming_score\"\u001b[0m\u001b[0;34m,\u001b[0m \u001b[0;34m\"hamming_loss\"\u001b[0m\u001b[0;34m]\u001b[0m\u001b[0;34m\u001b[0m\u001b[0;34m\u001b[0m\u001b[0m\n\u001b[1;32m     11\u001b[0m )\n\u001b[0;32m---> 12\u001b[0;31m \u001b[0mevaluator\u001b[0m\u001b[0;34m.\u001b[0m\u001b[0mevaluate\u001b[0m\u001b[0;34m(\u001b[0m\u001b[0mstream\u001b[0m\u001b[0;34m=\u001b[0m\u001b[0menron_stream\u001b[0m\u001b[0;34m,\u001b[0m \u001b[0mmodel\u001b[0m\u001b[0;34m=\u001b[0m\u001b[0menron_pipe\u001b[0m\u001b[0;34m)\u001b[0m\u001b[0;34m\u001b[0m\u001b[0;34m\u001b[0m\u001b[0m\n\u001b[0m",
            "\u001b[0;32m/usr/local/lib/python3.6/dist-packages/skmultiflow/evaluation/evaluate_prequential.py\u001b[0m in \u001b[0;36mevaluate\u001b[0;34m(self, stream, model, model_names)\u001b[0m\n\u001b[1;32m    248\u001b[0m             \u001b[0mself\u001b[0m\u001b[0;34m.\u001b[0m\u001b[0m_init_file\u001b[0m\u001b[0;34m(\u001b[0m\u001b[0;34m)\u001b[0m\u001b[0;34m\u001b[0m\u001b[0;34m\u001b[0m\u001b[0m\n\u001b[1;32m    249\u001b[0m \u001b[0;34m\u001b[0m\u001b[0m\n\u001b[0;32m--> 250\u001b[0;31m             \u001b[0mself\u001b[0m\u001b[0;34m.\u001b[0m\u001b[0mmodel\u001b[0m \u001b[0;34m=\u001b[0m \u001b[0mself\u001b[0m\u001b[0;34m.\u001b[0m\u001b[0m_train_and_test\u001b[0m\u001b[0;34m(\u001b[0m\u001b[0;34m)\u001b[0m\u001b[0;34m\u001b[0m\u001b[0;34m\u001b[0m\u001b[0m\n\u001b[0m\u001b[1;32m    251\u001b[0m \u001b[0;34m\u001b[0m\u001b[0m\n\u001b[1;32m    252\u001b[0m             \u001b[0;32mif\u001b[0m \u001b[0mself\u001b[0m\u001b[0;34m.\u001b[0m\u001b[0mshow_plot\u001b[0m\u001b[0;34m:\u001b[0m\u001b[0;34m\u001b[0m\u001b[0;34m\u001b[0m\u001b[0m\n",
            "\u001b[0;32m/usr/local/lib/python3.6/dist-packages/skmultiflow/evaluation/evaluate_prequential.py\u001b[0m in \u001b[0;36m_train_and_test\u001b[0;34m(self)\u001b[0m\n\u001b[1;32m    293\u001b[0m                 \u001b[0;32melif\u001b[0m \u001b[0mself\u001b[0m\u001b[0;34m.\u001b[0m\u001b[0m_task_type\u001b[0m \u001b[0;34m==\u001b[0m \u001b[0mconstants\u001b[0m\u001b[0;34m.\u001b[0m\u001b[0mMULTI_TARGET_CLASSIFICATION\u001b[0m\u001b[0;34m:\u001b[0m\u001b[0;34m\u001b[0m\u001b[0;34m\u001b[0m\u001b[0m\n\u001b[1;32m    294\u001b[0m                     \u001b[0mself\u001b[0m\u001b[0;34m.\u001b[0m\u001b[0mrunning_time_measurements\u001b[0m\u001b[0;34m[\u001b[0m\u001b[0mi\u001b[0m\u001b[0;34m]\u001b[0m\u001b[0;34m.\u001b[0m\u001b[0mcompute_training_time_begin\u001b[0m\u001b[0;34m(\u001b[0m\u001b[0;34m)\u001b[0m\u001b[0;34m\u001b[0m\u001b[0;34m\u001b[0m\u001b[0m\n\u001b[0;32m--> 295\u001b[0;31m                     \u001b[0mself\u001b[0m\u001b[0;34m.\u001b[0m\u001b[0mmodel\u001b[0m\u001b[0;34m[\u001b[0m\u001b[0mi\u001b[0m\u001b[0;34m]\u001b[0m\u001b[0;34m.\u001b[0m\u001b[0mpartial_fit\u001b[0m\u001b[0;34m(\u001b[0m\u001b[0mX\u001b[0m\u001b[0;34m=\u001b[0m\u001b[0mX\u001b[0m\u001b[0;34m,\u001b[0m \u001b[0my\u001b[0m\u001b[0;34m=\u001b[0m\u001b[0my\u001b[0m\u001b[0;34m,\u001b[0m \u001b[0mclasses\u001b[0m\u001b[0;34m=\u001b[0m\u001b[0munique\u001b[0m\u001b[0;34m(\u001b[0m\u001b[0mself\u001b[0m\u001b[0;34m.\u001b[0m\u001b[0mstream\u001b[0m\u001b[0;34m.\u001b[0m\u001b[0mtarget_values\u001b[0m\u001b[0;34m)\u001b[0m\u001b[0;34m)\u001b[0m\u001b[0;34m\u001b[0m\u001b[0;34m\u001b[0m\u001b[0m\n\u001b[0m\u001b[1;32m    296\u001b[0m                     \u001b[0mself\u001b[0m\u001b[0;34m.\u001b[0m\u001b[0mrunning_time_measurements\u001b[0m\u001b[0;34m[\u001b[0m\u001b[0mi\u001b[0m\u001b[0;34m]\u001b[0m\u001b[0;34m.\u001b[0m\u001b[0mcompute_training_time_end\u001b[0m\u001b[0;34m(\u001b[0m\u001b[0;34m)\u001b[0m\u001b[0;34m\u001b[0m\u001b[0;34m\u001b[0m\u001b[0m\n\u001b[1;32m    297\u001b[0m                 \u001b[0;32melse\u001b[0m\u001b[0;34m:\u001b[0m\u001b[0;34m\u001b[0m\u001b[0;34m\u001b[0m\u001b[0m\n",
            "\u001b[0;32m/usr/local/lib/python3.6/dist-packages/skmultiflow/core/pipeline.py\u001b[0m in \u001b[0;36mpartial_fit\u001b[0;34m(self, X, y, classes)\u001b[0m\n\u001b[1;32m    175\u001b[0m         \u001b[0;32mif\u001b[0m \u001b[0mself\u001b[0m\u001b[0;34m.\u001b[0m\u001b[0m_final_estimator\u001b[0m \u001b[0;32mis\u001b[0m \u001b[0;32mnot\u001b[0m \u001b[0;32mNone\u001b[0m\u001b[0;34m:\u001b[0m\u001b[0;34m\u001b[0m\u001b[0;34m\u001b[0m\u001b[0m\n\u001b[1;32m    176\u001b[0m             \u001b[0;32mif\u001b[0m \u001b[0;34m\"classes\"\u001b[0m \u001b[0;32min\u001b[0m \u001b[0mself\u001b[0m\u001b[0;34m.\u001b[0m\u001b[0m_final_estimator\u001b[0m\u001b[0;34m.\u001b[0m\u001b[0mpartial_fit\u001b[0m\u001b[0;34m.\u001b[0m\u001b[0m__code__\u001b[0m\u001b[0;34m.\u001b[0m\u001b[0mco_varnames\u001b[0m\u001b[0;34m:\u001b[0m\u001b[0;34m\u001b[0m\u001b[0;34m\u001b[0m\u001b[0m\n\u001b[0;32m--> 177\u001b[0;31m                 \u001b[0mself\u001b[0m\u001b[0;34m.\u001b[0m\u001b[0m_final_estimator\u001b[0m\u001b[0;34m.\u001b[0m\u001b[0mpartial_fit\u001b[0m\u001b[0;34m(\u001b[0m\u001b[0mX\u001b[0m\u001b[0;34m=\u001b[0m\u001b[0mXt\u001b[0m\u001b[0;34m,\u001b[0m \u001b[0my\u001b[0m\u001b[0;34m=\u001b[0m\u001b[0my\u001b[0m\u001b[0;34m,\u001b[0m \u001b[0mclasses\u001b[0m\u001b[0;34m=\u001b[0m\u001b[0mclasses\u001b[0m\u001b[0;34m)\u001b[0m\u001b[0;34m\u001b[0m\u001b[0;34m\u001b[0m\u001b[0m\n\u001b[0m\u001b[1;32m    178\u001b[0m             \u001b[0;32melse\u001b[0m\u001b[0;34m:\u001b[0m\u001b[0;34m\u001b[0m\u001b[0;34m\u001b[0m\u001b[0m\n\u001b[1;32m    179\u001b[0m                 \u001b[0mself\u001b[0m\u001b[0;34m.\u001b[0m\u001b[0m_final_estimator\u001b[0m\u001b[0;34m.\u001b[0m\u001b[0mpartial_fit\u001b[0m\u001b[0;34m(\u001b[0m\u001b[0mX\u001b[0m\u001b[0;34m=\u001b[0m\u001b[0mXt\u001b[0m\u001b[0;34m,\u001b[0m \u001b[0my\u001b[0m\u001b[0;34m=\u001b[0m\u001b[0my\u001b[0m\u001b[0;34m)\u001b[0m\u001b[0;34m\u001b[0m\u001b[0;34m\u001b[0m\u001b[0m\n",
            "\u001b[0;32m/usr/local/lib/python3.6/dist-packages/skmultiflow/meta/multi_output_learner.py\u001b[0m in \u001b[0;36mpartial_fit\u001b[0;34m(self, X, y, classes, sample_weight)\u001b[0m\n\u001b[1;32m    158\u001b[0m         \u001b[0;32mif\u001b[0m \u001b[0mself\u001b[0m\u001b[0;34m.\u001b[0m\u001b[0mn_targets\u001b[0m \u001b[0;32mis\u001b[0m \u001b[0;32mNone\u001b[0m\u001b[0;34m:\u001b[0m\u001b[0;34m\u001b[0m\u001b[0;34m\u001b[0m\u001b[0m\n\u001b[1;32m    159\u001b[0m             \u001b[0;31m# This is the first time that the model is fit\u001b[0m\u001b[0;34m\u001b[0m\u001b[0;34m\u001b[0m\u001b[0;34m\u001b[0m\u001b[0m\n\u001b[0;32m--> 160\u001b[0;31m             \u001b[0mself\u001b[0m\u001b[0;34m.\u001b[0m\u001b[0mfit\u001b[0m\u001b[0;34m(\u001b[0m\u001b[0mX\u001b[0m\u001b[0;34m=\u001b[0m\u001b[0mX\u001b[0m\u001b[0;34m,\u001b[0m \u001b[0my\u001b[0m\u001b[0;34m=\u001b[0m\u001b[0my\u001b[0m\u001b[0;34m,\u001b[0m \u001b[0mclasses\u001b[0m\u001b[0;34m=\u001b[0m\u001b[0mclasses\u001b[0m\u001b[0;34m,\u001b[0m \u001b[0msample_weight\u001b[0m\u001b[0;34m=\u001b[0m\u001b[0msample_weight\u001b[0m\u001b[0;34m)\u001b[0m\u001b[0;34m\u001b[0m\u001b[0;34m\u001b[0m\u001b[0m\n\u001b[0m\u001b[1;32m    161\u001b[0m             \u001b[0;32mreturn\u001b[0m \u001b[0mself\u001b[0m\u001b[0;34m\u001b[0m\u001b[0;34m\u001b[0m\u001b[0m\n\u001b[1;32m    162\u001b[0m \u001b[0;34m\u001b[0m\u001b[0m\n",
            "\u001b[0;32m/usr/local/lib/python3.6/dist-packages/skmultiflow/meta/multi_output_learner.py\u001b[0m in \u001b[0;36mfit\u001b[0;34m(self, X, y, classes, sample_weight)\u001b[0m\n\u001b[1;32m    123\u001b[0m                 \u001b[0mself\u001b[0m\u001b[0;34m.\u001b[0m\u001b[0mensemble\u001b[0m\u001b[0;34m[\u001b[0m\u001b[0mj\u001b[0m\u001b[0;34m]\u001b[0m\u001b[0;34m.\u001b[0m\u001b[0mfit\u001b[0m\u001b[0;34m(\u001b[0m\u001b[0mX\u001b[0m\u001b[0;34m,\u001b[0m \u001b[0my\u001b[0m\u001b[0;34m[\u001b[0m\u001b[0;34m:\u001b[0m\u001b[0;34m,\u001b[0m \u001b[0mj\u001b[0m\u001b[0;34m]\u001b[0m\u001b[0;34m,\u001b[0m \u001b[0mclasses\u001b[0m\u001b[0;34m=\u001b[0m\u001b[0mclasses\u001b[0m\u001b[0;34m,\u001b[0m \u001b[0msample_weight\u001b[0m\u001b[0;34m=\u001b[0m\u001b[0msample_weight\u001b[0m\u001b[0;34m)\u001b[0m\u001b[0;34m\u001b[0m\u001b[0;34m\u001b[0m\u001b[0m\n\u001b[1;32m    124\u001b[0m             \u001b[0;32melif\u001b[0m \u001b[0;34m'sample_weight'\u001b[0m \u001b[0;32min\u001b[0m \u001b[0msignature\u001b[0m\u001b[0;34m(\u001b[0m\u001b[0mself\u001b[0m\u001b[0;34m.\u001b[0m\u001b[0mensemble\u001b[0m\u001b[0;34m[\u001b[0m\u001b[0mj\u001b[0m\u001b[0;34m]\u001b[0m\u001b[0;34m.\u001b[0m\u001b[0mfit\u001b[0m\u001b[0;34m)\u001b[0m\u001b[0;34m.\u001b[0m\u001b[0mparameters\u001b[0m\u001b[0;34m:\u001b[0m\u001b[0;34m\u001b[0m\u001b[0;34m\u001b[0m\u001b[0m\n\u001b[0;32m--> 125\u001b[0;31m                 \u001b[0mself\u001b[0m\u001b[0;34m.\u001b[0m\u001b[0mensemble\u001b[0m\u001b[0;34m[\u001b[0m\u001b[0mj\u001b[0m\u001b[0;34m]\u001b[0m\u001b[0;34m.\u001b[0m\u001b[0mfit\u001b[0m\u001b[0;34m(\u001b[0m\u001b[0mX\u001b[0m\u001b[0;34m,\u001b[0m \u001b[0my\u001b[0m\u001b[0;34m[\u001b[0m\u001b[0;34m:\u001b[0m\u001b[0;34m,\u001b[0m \u001b[0mj\u001b[0m\u001b[0;34m]\u001b[0m\u001b[0;34m,\u001b[0m \u001b[0msample_weight\u001b[0m\u001b[0;34m=\u001b[0m\u001b[0msample_weight\u001b[0m\u001b[0;34m)\u001b[0m\u001b[0;34m\u001b[0m\u001b[0;34m\u001b[0m\u001b[0m\n\u001b[0m\u001b[1;32m    126\u001b[0m             \u001b[0;32melse\u001b[0m\u001b[0;34m:\u001b[0m\u001b[0;34m\u001b[0m\u001b[0;34m\u001b[0m\u001b[0m\n\u001b[1;32m    127\u001b[0m                 \u001b[0mself\u001b[0m\u001b[0;34m.\u001b[0m\u001b[0mensemble\u001b[0m\u001b[0;34m[\u001b[0m\u001b[0mj\u001b[0m\u001b[0;34m]\u001b[0m\u001b[0;34m.\u001b[0m\u001b[0mfit\u001b[0m\u001b[0;34m(\u001b[0m\u001b[0mX\u001b[0m\u001b[0;34m,\u001b[0m \u001b[0my\u001b[0m\u001b[0;34m[\u001b[0m\u001b[0;34m:\u001b[0m\u001b[0;34m,\u001b[0m \u001b[0mj\u001b[0m\u001b[0;34m]\u001b[0m\u001b[0;34m)\u001b[0m\u001b[0;34m\u001b[0m\u001b[0;34m\u001b[0m\u001b[0m\n",
            "\u001b[0;32m/usr/local/lib/python3.6/dist-packages/sklearn/linear_model/_stochastic_gradient.py\u001b[0m in \u001b[0;36mfit\u001b[0;34m(self, X, y, coef_init, intercept_init, sample_weight)\u001b[0m\n\u001b[1;32m    709\u001b[0m                          \u001b[0mloss\u001b[0m\u001b[0;34m=\u001b[0m\u001b[0mself\u001b[0m\u001b[0;34m.\u001b[0m\u001b[0mloss\u001b[0m\u001b[0;34m,\u001b[0m \u001b[0mlearning_rate\u001b[0m\u001b[0;34m=\u001b[0m\u001b[0mself\u001b[0m\u001b[0;34m.\u001b[0m\u001b[0mlearning_rate\u001b[0m\u001b[0;34m,\u001b[0m\u001b[0;34m\u001b[0m\u001b[0;34m\u001b[0m\u001b[0m\n\u001b[1;32m    710\u001b[0m                          \u001b[0mcoef_init\u001b[0m\u001b[0;34m=\u001b[0m\u001b[0mcoef_init\u001b[0m\u001b[0;34m,\u001b[0m \u001b[0mintercept_init\u001b[0m\u001b[0;34m=\u001b[0m\u001b[0mintercept_init\u001b[0m\u001b[0;34m,\u001b[0m\u001b[0;34m\u001b[0m\u001b[0;34m\u001b[0m\u001b[0m\n\u001b[0;32m--> 711\u001b[0;31m                          sample_weight=sample_weight)\n\u001b[0m\u001b[1;32m    712\u001b[0m \u001b[0;34m\u001b[0m\u001b[0m\n\u001b[1;32m    713\u001b[0m \u001b[0;34m\u001b[0m\u001b[0m\n",
            "\u001b[0;32m/usr/local/lib/python3.6/dist-packages/sklearn/linear_model/_stochastic_gradient.py\u001b[0m in \u001b[0;36m_fit\u001b[0;34m(self, X, y, alpha, C, loss, learning_rate, coef_init, intercept_init, sample_weight)\u001b[0m\n\u001b[1;32m    548\u001b[0m \u001b[0;34m\u001b[0m\u001b[0m\n\u001b[1;32m    549\u001b[0m         self._partial_fit(X, y, alpha, C, loss, learning_rate, self.max_iter,\n\u001b[0;32m--> 550\u001b[0;31m                           classes, sample_weight, coef_init, intercept_init)\n\u001b[0m\u001b[1;32m    551\u001b[0m \u001b[0;34m\u001b[0m\u001b[0m\n\u001b[1;32m    552\u001b[0m         if (self.tol is not None and self.tol > -np.inf\n",
            "\u001b[0;32m/usr/local/lib/python3.6/dist-packages/sklearn/linear_model/_stochastic_gradient.py\u001b[0m in \u001b[0;36m_partial_fit\u001b[0;34m(self, X, y, alpha, C, loss, learning_rate, max_iter, classes, sample_weight, coef_init, intercept_init)\u001b[0m\n\u001b[1;32m    512\u001b[0m             raise ValueError(\n\u001b[1;32m    513\u001b[0m                 \u001b[0;34m\"The number of classes has to be greater than one;\"\u001b[0m\u001b[0;34m\u001b[0m\u001b[0;34m\u001b[0m\u001b[0m\n\u001b[0;32m--> 514\u001b[0;31m                 \" got %d class\" % n_classes)\n\u001b[0m\u001b[1;32m    515\u001b[0m \u001b[0;34m\u001b[0m\u001b[0m\n\u001b[1;32m    516\u001b[0m         \u001b[0;32mreturn\u001b[0m \u001b[0mself\u001b[0m\u001b[0;34m\u001b[0m\u001b[0;34m\u001b[0m\u001b[0m\n",
            "\u001b[0;31mValueError\u001b[0m: The number of classes has to be greater than one; got 1 class"
          ]
        }
      ]
    },
    {
      "cell_type": "markdown",
      "metadata": {
        "id": "VYdhQ9vzNIT6",
        "colab_type": "text"
      },
      "source": [
        "Parece tener que ver con que el modelo necesita un ejemplo de todas las clases para poder pre-entrenar. En la celda se muestra que no todas las labels tienen todas sus clases en las primeros 100 instancias del dataset."
      ]
    },
    {
      "cell_type": "markdown",
      "metadata": {
        "id": "cyS98903OJkY",
        "colab_type": "text"
      },
      "source": [
        "### Ordena dataset\n",
        "A continuación se ordena el dataset de manera tal que haya un ejemplo de cada clase y label en la menor cantidad de filas posibles."
      ]
    },
    {
      "cell_type": "code",
      "metadata": {
        "id": "ctb4LXuB6Mdt",
        "colab_type": "code",
        "colab": {
          "base_uri": "https://localhost:8080/",
          "height": 69
        },
        "outputId": "7374b0ed-4a1e-4f50-ba6e-89ff9ff4f30e"
      },
      "source": [
        "def unique_classes_per_label(a):\n",
        "    b = np.sort(a,axis=0)\n",
        "    return (b[1:] != b[:-1]).sum(axis=0)+1\n",
        "\n",
        "unique_classes_per_label(y_stream.todense()[0:99])"
      ],
      "execution_count": 13,
      "outputs": [
        {
          "output_type": "execute_result",
          "data": {
            "text/plain": [
              "matrix([[2, 2, 1, 2, 2, 2, 2, 1, 1, 1, 1, 2, 2, 1, 2, 1, 1, 1, 2, 1, 2,\n",
              "         2, 1, 1, 2, 2, 1, 1, 1, 1, 1, 2, 1, 1, 1, 1, 1, 2, 1, 2, 2, 1,\n",
              "         1, 1, 2, 1, 2, 1, 1, 2, 1, 2, 1]])"
            ]
          },
          "metadata": {
            "tags": []
          },
          "execution_count": 13
        }
      ]
    },
    {
      "cell_type": "code",
      "metadata": {
        "id": "I6QVrDCvJcTS",
        "colab_type": "code",
        "colab": {
          "base_uri": "https://localhost:8080/",
          "height": 34
        },
        "outputId": "6ce1781b-6019-49c2-c03d-293cc5308f41"
      },
      "source": [
        "idx_per_label = []\n",
        "for label in range(0, enron_stream.y.shape[1]):\n",
        "    i = 0\n",
        "    for row in enron_stream.y:\n",
        "        if row[label] == 1 and i not in idx_per_label:\n",
        "            idx_per_label.append(i)\n",
        "            break\n",
        "        i += 1\n",
        "\n",
        "test_ok = True\n",
        "for i in range(0, enron_stream.y.shape[1]):\n",
        "    test_ok &= enron_stream.y[idx_per_label[i]][i] == 1\n",
        "print(\"idx_per_label se cargó correctamente\") if test_ok else print(\"Falló el test\")"
      ],
      "execution_count": 14,
      "outputs": [
        {
          "output_type": "stream",
          "text": [
            "idx_per_label se cargó correctamente\n"
          ],
          "name": "stdout"
        }
      ]
    },
    {
      "cell_type": "code",
      "metadata": {
        "id": "t0iIzvGsHMM4",
        "colab_type": "code",
        "colab": {
          "base_uri": "https://localhost:8080/",
          "height": 139
        },
        "outputId": "17fdf557-0aec-4d0a-fa85-97073c1f7ab5"
      },
      "source": [
        "y_sorted = np.append(\n",
        "    enron_stream.y[idx_per_label], \n",
        "    enron_stream.y[ \n",
        "        [i for i in range(0,len(enron_stream.y)) if i not in idx_per_label] \n",
        "    ],\n",
        "    axis=0\n",
        ")\n",
        "y_sorted"
      ],
      "execution_count": 15,
      "outputs": [
        {
          "output_type": "execute_result",
          "data": {
            "text/plain": [
              "array([[1, 0, 0, ..., 0, 0, 0],\n",
              "       [0, 1, 0, ..., 0, 0, 0],\n",
              "       [0, 0, 1, ..., 0, 0, 0],\n",
              "       ...,\n",
              "       [0, 0, 0, ..., 0, 0, 0],\n",
              "       [0, 1, 0, ..., 0, 0, 0],\n",
              "       [0, 0, 0, ..., 0, 0, 0]])"
            ]
          },
          "metadata": {
            "tags": []
          },
          "execution_count": 15
        }
      ]
    },
    {
      "cell_type": "code",
      "metadata": {
        "id": "lgy39DtKKB3k",
        "colab_type": "code",
        "colab": {
          "base_uri": "https://localhost:8080/",
          "height": 69
        },
        "outputId": "5ce7b599-00e1-4809-c2b9-49a5a9da6b26"
      },
      "source": [
        "unique_classes_per_label(y_sorted[0:99])"
      ],
      "execution_count": 16,
      "outputs": [
        {
          "output_type": "execute_result",
          "data": {
            "text/plain": [
              "array([2, 2, 2, 2, 2, 2, 2, 2, 2, 2, 2, 2, 2, 2, 2, 2, 2, 2, 2, 2, 2, 2,\n",
              "       2, 2, 2, 2, 2, 2, 2, 2, 2, 2, 2, 2, 2, 2, 2, 2, 2, 2, 2, 2, 2, 2,\n",
              "       2, 2, 2, 2, 2, 2, 2, 2, 2])"
            ]
          },
          "metadata": {
            "tags": []
          },
          "execution_count": 16
        }
      ]
    },
    {
      "cell_type": "code",
      "metadata": {
        "id": "Mb3qHXNAKQyk",
        "colab_type": "code",
        "colab": {
          "base_uri": "https://localhost:8080/",
          "height": 139
        },
        "outputId": "d76d4000-927c-486e-c412-acd6a95dcb75"
      },
      "source": [
        "X_sorted = np.append(\n",
        "    enron_stream.X[idx_per_label], \n",
        "    enron_stream.X[ \n",
        "        [i for i in range(0,len(enron_stream.X)) if i not in idx_per_label] \n",
        "    ],\n",
        "    axis=0\n",
        ")\n",
        "enron_stream.X, enron_stream.X.shape"
      ],
      "execution_count": 17,
      "outputs": [
        {
          "output_type": "execute_result",
          "data": {
            "text/plain": [
              "(array([[0., 0., 0., ..., 0., 0., 0.],\n",
              "        [0., 0., 0., ..., 0., 0., 0.],\n",
              "        [0., 0., 0., ..., 0., 0., 0.],\n",
              "        ...,\n",
              "        [0., 0., 0., ..., 0., 0., 0.],\n",
              "        [0., 0., 0., ..., 1., 1., 0.],\n",
              "        [0., 0., 0., ..., 1., 1., 0.]]), (1702, 1001))"
            ]
          },
          "metadata": {
            "tags": []
          },
          "execution_count": 17
        }
      ]
    },
    {
      "cell_type": "markdown",
      "metadata": {
        "id": "HwG0mL9LOlWe",
        "colab_type": "text"
      },
      "source": [
        "### Con el dataset ordenado el modelo se ejecuta correctamente"
      ]
    },
    {
      "cell_type": "code",
      "metadata": {
        "id": "pSq-yoHvK8DD",
        "colab_type": "code",
        "colab": {
          "base_uri": "https://localhost:8080/",
          "height": 958
        },
        "outputId": "fb5b93dd-7533-4e0d-8be8-990998013952"
      },
      "source": [
        "enron_stream = DataStream(data=X_sorted, y=y_sorted)\n",
        "enron_stream.prepare_for_use()\n",
        "classifier = MultiOutputLearner(\n",
        "    Perceptron()\n",
        ")\n",
        "enron_pipe = Pipeline([('classifier', classifier)])\n",
        "evaluator = EvaluatePrequential(\n",
        "    show_plot=True, \n",
        "    pretrain_size=100, \n",
        "    max_samples=500000,\n",
        "    metrics=[\"hamming_score\", \"hamming_loss\"]\n",
        ")\n",
        "evaluator.evaluate(stream=enron_stream, model=enron_pipe)"
      ],
      "execution_count": 18,
      "outputs": [
        {
          "output_type": "stream",
          "text": [
            "/usr/local/lib/python3.6/dist-packages/skmultiflow/data/base_stream.py:194: FutureWarning: 'prepare_for_use' has been deprecated in v0.5.0 and will be removed in v0.7.0.\n",
            "New instances of the Stream class are now ready to use after instantiation.\n",
            "  category=FutureWarning)\n"
          ],
          "name": "stderr"
        },
        {
          "output_type": "stream",
          "text": [
            "Prequential Evaluation\n",
            "Evaluating 53 target(s).\n",
            "Pre-training on 100 sample(s).\n",
            "Evaluating...\n",
            " ##------------------ [10%] [2.55s]"
          ],
          "name": "stdout"
        },
        {
          "output_type": "display_data",
          "data": {
            "image/png": "[encoded data removed]",
            "text/plain": [
              "<Figure size 648x360 with 2 Axes>"
            ]
          },
          "metadata": {
            "tags": [],
            "needs_background": "light"
          }
        },
        {
          "output_type": "stream",
          "text": [
            " ####---------------- [20%] [8.77s]"
          ],
          "name": "stdout"
        },
        {
          "output_type": "display_data",
          "data": {
            "text/plain": [
              "<Figure size 432x288 with 0 Axes>"
            ]
          },
          "metadata": {
            "tags": []
          }
        },
        {
          "output_type": "stream",
          "text": [
            " #######------------- [35%] [17.68s]"
          ],
          "name": "stdout"
        },
        {
          "output_type": "display_data",
          "data": {
            "text/plain": [
              "<Figure size 432x288 with 0 Axes>"
            ]
          },
          "metadata": {
            "tags": []
          }
        },
        {
          "output_type": "stream",
          "text": [
            " #########----------- [45%] [23.59s]"
          ],
          "name": "stdout"
        },
        {
          "output_type": "display_data",
          "data": {
            "text/plain": [
              "<Figure size 432x288 with 0 Axes>"
            ]
          },
          "metadata": {
            "tags": []
          }
        },
        {
          "output_type": "stream",
          "text": [
            " ###########--------- [55%] [29.45s]"
          ],
          "name": "stdout"
        },
        {
          "output_type": "display_data",
          "data": {
            "text/plain": [
              "<Figure size 432x288 with 0 Axes>"
            ]
          },
          "metadata": {
            "tags": []
          }
        },
        {
          "output_type": "stream",
          "text": [
            " ##############------ [70%] [38.23s]"
          ],
          "name": "stdout"
        },
        {
          "output_type": "display_data",
          "data": {
            "text/plain": [
              "<Figure size 432x288 with 0 Axes>"
            ]
          },
          "metadata": {
            "tags": []
          }
        },
        {
          "output_type": "stream",
          "text": [
            " ################---- [80%] [44.04s]"
          ],
          "name": "stdout"
        },
        {
          "output_type": "display_data",
          "data": {
            "text/plain": [
              "<Figure size 432x288 with 0 Axes>"
            ]
          },
          "metadata": {
            "tags": []
          }
        },
        {
          "output_type": "stream",
          "text": [
            " ##################-- [90%] [49.89s]"
          ],
          "name": "stdout"
        },
        {
          "output_type": "display_data",
          "data": {
            "text/plain": [
              "<Figure size 432x288 with 0 Axes>"
            ]
          },
          "metadata": {
            "tags": []
          }
        },
        {
          "output_type": "stream",
          "text": [
            " #################### [100%] [55.78s]\n"
          ],
          "name": "stdout"
        },
        {
          "output_type": "display_data",
          "data": {
            "text/plain": [
              "<Figure size 432x288 with 0 Axes>"
            ]
          },
          "metadata": {
            "tags": []
          }
        },
        {
          "output_type": "stream",
          "text": [
            "Processed samples: 1702\n",
            "Mean performance:\n",
            "M0 - Hamming score: 0.0318\n",
            "M0 - Hamming loss : 0.9682\n"
          ],
          "name": "stdout"
        },
        {
          "output_type": "execute_result",
          "data": {
            "text/plain": [
              "[Pipeline(steps=[('classifier',\n",
              "                  MultiOutputLearner(base_estimator=Perceptron(alpha=0.0001, class_weight=None, early_stopping=False, eta0=1.0,\n",
              "            fit_intercept=True, max_iter=1000, n_iter_no_change=5, n_jobs=None,\n",
              "            penalty=None, random_state=0, shuffle=True, tol=0.001,\n",
              "            validation_fraction=0.1, verbose=0, warm_start=False)))])]"
            ]
          },
          "metadata": {
            "tags": []
          },
          "execution_count": 18
        }
      ]
    },
    {
      "cell_type": "code",
      "metadata": {
        "id": "W_9rBGAAoPoo",
        "colab_type": "code",
        "colab": {}
      },
      "source": [
        ""
      ],
      "execution_count": null,
      "outputs": []
    }
  ]
}